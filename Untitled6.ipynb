{
  "nbformat": 4,
  "nbformat_minor": 0,
  "metadata": {
    "colab": {
      "provenance": [],
      "authorship_tag": "ABX9TyPdiV/zVHvCLD/7I//6si3+",
      "include_colab_link": true
    },
    "kernelspec": {
      "name": "python3",
      "display_name": "Python 3"
    },
    "language_info": {
      "name": "python"
    }
  },
  "cells": [
    {
      "cell_type": "markdown",
      "metadata": {
        "id": "view-in-github",
        "colab_type": "text"
      },
      "source": [
        "<a href=\"https://colab.research.google.com/github/Svinazco100/Mat-Aplicadas-1/blob/main/Untitled6.ipynb\" target=\"_parent\"><img src=\"https://colab.research.google.com/assets/colab-badge.svg\" alt=\"Open In Colab\"/></a>"
      ]
    },
    {
      "cell_type": "code",
      "execution_count": null,
      "metadata": {
        "id": "4Hdf689VFxXW"
      },
      "outputs": [],
      "source": []
    },
    {
      "cell_type": "markdown",
      "source": [
        "Santiago Vinazco Ortegon Juan david Orozco Samuel Castro"
      ],
      "metadata": {
        "id": "-fowyZntheSs"
      }
    },
    {
      "cell_type": "markdown",
      "source": [
        "*Despejar la variable*\n",
        "\n",
        "1.\n",
        "\n",
        "$A = 2 \\pi rg$\n",
        "\n",
        "$r = \\frac{A}{2\\pi g}$\n",
        "\n",
        "2.\n",
        "\n",
        "$V = \\frac{A_b*h}{3}$\n",
        "\n",
        "$h = \\frac{V*3}{A_b}$\n",
        "\n",
        "3.\n",
        "\n",
        "$V= \\frac{4}{3}*\\pi r^3$\n",
        "\n",
        "$r=\\sqrt[3]{\\frac{3V}{4\\pi}}$\n",
        "\n",
        "4.\n",
        "\n",
        "$A= \\frac{B+b}{2}*h$\n",
        "\n",
        "$h = \\frac{2A}{B+b}$\n",
        "\n",
        "5.\n",
        "\n",
        "$I= \\frac{q}{t}$\n",
        "\n",
        "$t= \\frac{q}{I}$\n",
        "\n",
        "6.\n",
        "\n",
        "$I= \\frac{V}{R}$\n",
        "\n",
        "$R= \\frac{V}{I}$\n",
        "\n",
        "7.\n",
        "\n",
        "$E= \\frac{V^2}{R}*t$\n",
        "\n",
        "$t= \\frac{E*R}{V^2}$\n",
        "\n",
        "8.\n",
        "\n",
        "$\\frac{1}{R}= \\frac{1}{R_1}+\\frac{1}{R_2}$\n",
        "\n",
        "$R= \\frac{1}{\\frac{1}{R_1}+\\frac{1}{R_2}}$\n",
        "\n",
        "9.\n",
        "\n",
        "$\\frac{P_0*V_0}{T_0}= \\frac{P_f*V_f}{T_f}$\n",
        "\n",
        "$P_f= \\frac{P_0*V_0*T_f}{T_0*V_f}$\n",
        "\n",
        "10.\n",
        "\n",
        "$I= \\frac{V_A -V_B}{R}$\n",
        "\n",
        "$V_B= V_A-I*R$"
      ],
      "metadata": {
        "id": "nn6t1g41Sjhh"
      }
    },
    {
      "cell_type": "markdown",
      "source": [
        "**2.Resolver las ecuaciones**\n",
        "\n",
        "$ [3(-5+10(-5))-2((-2)+(-4)+10)]^2$=\n",
        "\n",
        " $[3(-55)-2(4)]^2$=\n",
        "\n",
        "$[-165-8]^2=$\n",
        "\n",
        "$29.929$\n",
        "\n",
        "$45+[3(2+8)-4-\\frac{8}{4}]+10-83$=\n",
        "\n",
        "$45+[3(10)-4-\\frac{8}{4}]+10-83$=\n",
        "\n",
        "$45+[30-4-2]+10-83$\n",
        "\n",
        "$45+[24]+10-83$=\n",
        "\n",
        "$45+24+10-83$=\n",
        "\n",
        "$-4$\n",
        "\n",
        "$[(-4+7)2-10]*(-4)-7-3$=\n",
        "\n",
        "$[(3)2-10]*(-4)-7-3$=\n",
        "\n",
        "$[6-10]*(-4)-7-3$=\n",
        "\n",
        "$-4*(-4)-7-3$=\n",
        "\n",
        "$16-7-3$=\n",
        "\n",
        "  $6$"
      ],
      "metadata": {
        "id": "PtzPKZj7hmOi"
      }
    },
    {
      "cell_type": "markdown",
      "source": [
        "$[\n",
        "\\frac{1}{5} \\left( \\left(\\frac{1}{2} \\right)^2 + \\left(\\frac{3}{4} \\right)^2 \\right) +\n",
        "\\frac{10}{25} \\left( \\left(\\frac{1}{2} \\right)^2 + \\left(\\frac{3}{4} \\right)^2 \\right) +\n",
        "\\frac{8}{40} \\left( \\left(\\frac{1}{2} \\right)^2 + \\left(\\frac{3}{4} \\right)^2 \\right)\n",
        "]$\n",
        "\n",
        "$[\n",
        "= 0.65\n",
        "]$\n",
        "\n",
        "\\subsection*{Segunda operación}\n",
        "\n",
        "$[\n",
        "\\frac{9}{4} \\times \\left(\\frac{6}{8}\\right)^{-1} -\n",
        "\\frac{5}{2} \\times \\left(\\frac{25}{20}\\right)^{-1} +\n",
        "\\frac{40}{8} \\times \\left(\\frac{20}{16}\\right)^{-1}\n",
        "]$\n",
        "\n",
        "\\$[\n",
        "= 5.0\n",
        "\\]$"
      ],
      "metadata": {
        "id": "zhKgBqDu5NJZ"
      }
    },
    {
      "cell_type": "markdown",
      "source": [
        "4."
      ],
      "metadata": {
        "id": "PUHJg1f1oNt-"
      }
    },
    {
      "cell_type": "code",
      "source": [
        "Usuario = input(\"ingresa tu usuario \")\n",
        "Peso = int(input(\"ingresa tu peso\"))\n",
        "Talla = int(input(\"ingesa tu talla en cm\"))\n",
        "IMC= Peso/Talla**2\n",
        "print(\"el IMC es\",IMC)\n"
      ],
      "metadata": {
        "id": "2lX9SaIGhuPf",
        "outputId": "293ec9ed-3f8f-49f7-eef5-5210275577ac",
        "colab": {
          "base_uri": "https://localhost:8080/"
        }
      },
      "execution_count": null,
      "outputs": [
        {
          "output_type": "stream",
          "name": "stdout",
          "text": [
            "ingresa tu usuario vini\n",
            "ingresa tu peso60\n",
            "ingesa tu talla en cm29\n",
            "el IMC es 0.0713436385255648\n"
          ]
        }
      ]
    },
    {
      "cell_type": "markdown",
      "source": [
        "5."
      ],
      "metadata": {
        "id": "CH8_-fvdoSHp"
      }
    },
    {
      "cell_type": "code",
      "source": [
        "num1= int(input(\"Escribe el primer numero: \"))\n",
        "num2= int(input(\"Escribe el segundo numero: \"))\n",
        "print(\"La suma de los dos numeros es: \", num1 + num2, \"\\n La resta de los dos numeros es: \", num1 - num2, \"\\n El cociente de los dos numeros es: \", num1 / num2, \"\\n El producto de los dos numeros es: \", num1 * num2)"
      ],
      "metadata": {
        "colab": {
          "base_uri": "https://localhost:8080/"
        },
        "id": "RZgK0aemjg3f",
        "outputId": "5f374be3-d503-4283-ccff-c24c6e2bdafb"
      },
      "execution_count": null,
      "outputs": [
        {
          "output_type": "stream",
          "name": "stdout",
          "text": [
            "Escribe el primer numero: 6\n",
            "Escribe el segundo numero: 6\n",
            "La suma de los dos numeros es:  12 \n",
            " La resta de los dos numeros es:  0 \n",
            " El cociente de los dos numeros es:  1.0 \n",
            " El producto de los dos numeros es:  36\n"
          ]
        }
      ]
    },
    {
      "cell_type": "code",
      "source": [
        "Barril_de_petroleo =[\"75.35\",\"77.88\",\"78.31\",\"77.22\",\"76.71\",\"76.45\",\"77.17\"]\n",
        "print(Barril_de_petroleo)\n",
        "petroleo_vs_cocalo=[]"
      ],
      "metadata": {
        "id": "_eDLRTHV0qm2",
        "outputId": "930ff3c6-f094-4c39-9275-0990f6b972d7",
        "colab": {
          "base_uri": "https://localhost:8080/"
        }
      },
      "execution_count": null,
      "outputs": [
        {
          "output_type": "stream",
          "name": "stdout",
          "text": [
            "['75.35', '77.88', '78.31', '77.22', '76.71', '76.45', '77.17']\n"
          ]
        }
      ]
    }
  ]
}