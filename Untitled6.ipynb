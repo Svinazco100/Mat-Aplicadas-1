{
  "nbformat": 4,
  "nbformat_minor": 0,
  "metadata": {
    "colab": {
      "provenance": [],
      "authorship_tag": "ABX9TyOwvWUn1hyJIQ41DOdCT+V0",
      "include_colab_link": true
    },
    "kernelspec": {
      "name": "python3",
      "display_name": "Python 3"
    },
    "language_info": {
      "name": "python"
    }
  },
  "cells": [
    {
      "cell_type": "markdown",
      "metadata": {
        "id": "view-in-github",
        "colab_type": "text"
      },
      "source": [
        "<a href=\"https://colab.research.google.com/github/Svinazco100/Mat-Aplicadas-1/blob/main/Untitled6.ipynb\" target=\"_parent\"><img src=\"https://colab.research.google.com/assets/colab-badge.svg\" alt=\"Open In Colab\"/></a>"
      ]
    },
    {
      "cell_type": "code",
      "execution_count": null,
      "metadata": {
        "id": "4Hdf689VFxXW"
      },
      "outputs": [],
      "source": []
    },
    {
      "cell_type": "markdown",
      "source": [
        "$[3(−5 + 10 + (−5)) − 2((−2) + (−4) + 10)]^2$\n",
        "\n",
        "• $45 + [3 (2 + 8) – 8/4] + 10 − 83$\n",
        "\n",
        "• [( −4 + 7)2 − 10]. (−4)– 7 – 3"
      ],
      "metadata": {
        "id": "nn6t1g41Sjhh"
      }
    }
  ]
}